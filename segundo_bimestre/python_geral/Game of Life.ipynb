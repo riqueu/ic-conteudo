{
 "cells": [
  {
   "cell_type": "raw",
   "id": "a8266a341465e21e",
   "metadata": {},
   "source": [
    "# Jogo da Vida de Conway\n",
    "O jogo da vida de Conway é um autômato celular, que foi concebido pelo matemático britânico John Horton Conway em 1970. O jogo é um exemplo de um sistema dinâmico que exibe padrões emergentes complexos. Apesar de suas regras simples, o jogo da vida é Turing completo e pode simular uma máquina universal de Turing.\n",
    "\n",
    "O Jogo da Vida pode ser descrito como um grid bidimensional infinito de células, cada uma das quais pode estar viva ou morta. Cada célula interage com seus oito vizinhos, que são as células que estão horizontal, vertical ou diagonalmente adjacentes. Em cada passo do tempo, as seguintes regras são aplicadas a cada célula:\n",
    "1. Uma célula morta com exatamente três vizinhos vivos se torna uma célula viva.\n",
    "2. Uma célula viva com dois ou três vizinhos vivos permanece viva.\n",
    "3. Em todos os outros casos, uma célula viva morre ou permanece morta.\n",
    "\n",
    " Vamos implementar o Jogo da vida usando um array bidimensional para representar o grid. Cada célula será representada por um 0 se estiver morta e 1 se estiver viva. Vamos implementar uma função que recebe um grid inicial e o número de passos de tempo e retorna o grid após o número especificado de passos de tempo.\n",
    " "
   ]
  },
  {
   "cell_type": "code",
   "execution_count": 23,
   "id": "initial_id",
   "metadata": {},
   "outputs": [],
   "source": [
    "import numpy as np\n",
    "import matplotlib.pyplot as plt\n"
   ]
  },
  {
   "cell_type": "code",
   "execution_count": 32,
   "id": "477aad00275d031c",
   "metadata": {},
   "outputs": [],
   "source": [
    "def game_of_life(grid, steps):\n",
    "    rows, cols = grid.shape\n",
    "    new_grid = np.zeros((rows, cols))\n",
    "    for _ in range(steps):\n",
    "        for i in range(rows):\n",
    "            for j in range(cols):\n",
    "                neighbors = grid[max(i - 1, 0):min(i + 1, rows), max(j - 1, 0):min(j + 1, cols)]\n",
    "                live_neighbors = np.sum(neighbors) - grid[i, j]\n",
    "                if grid[i, j] == 1 and live_neighbors in [2, 3]:\n",
    "                    new_grid[i, j] = 1\n",
    "                elif grid[i, j] == 0 and live_neighbors == 3:\n",
    "                    new_grid[i, j] = 1\n",
    "        grid = new_grid.copy()\n",
    "        plt.imshow(grid)\n",
    "    return new_grid"
   ]
  },
  {
   "cell_type": "code",
   "execution_count": 33,
   "id": "945d07ba-77ed-4655-be27-b766cf3227e5",
   "metadata": {},
   "outputs": [
    {
     "data": {
      "text/plain": [
       "array([[0., 0., 0., 0., 0., 0., 0., 0., 0., 0.],\n",
       "       [0., 0., 0., 0., 0., 0., 0., 0., 0., 0.],\n",
       "       [0., 0., 0., 0., 0., 0., 0., 0., 0., 0.],\n",
       "       [0., 0., 0., 0., 0., 0., 0., 0., 0., 0.],\n",
       "       [0., 0., 0., 0., 0., 0., 0., 0., 0., 0.],\n",
       "       [0., 0., 0., 0., 0., 0., 0., 0., 0., 0.],\n",
       "       [0., 0., 0., 0., 0., 0., 0., 0., 0., 0.],\n",
       "       [0., 0., 0., 0., 0., 0., 0., 0., 0., 0.],\n",
       "       [0., 0., 0., 0., 0., 0., 0., 0., 0., 0.],\n",
       "       [0., 0., 0., 0., 0., 0., 0., 0., 0., 0.]])"
      ]
     },
     "execution_count": 33,
     "metadata": {},
     "output_type": "execute_result"
    },
    {
     "data": {
      "image/png": "[encoded data removed]",
      "text/plain": [
       "<Figure size 640x480 with 1 Axes>"
      ]
     },
     "metadata": {},
     "output_type": "display_data"
    }
   ],
   "source": [
    "grid_inicial = np.zeros((10,10))\n",
    "grid_inicial[2,3] = 1\n",
    "grid_inicial[2,5] = 1\n",
    "grid_inicial[3,4] = 1\n",
    "game_of_life(grid_inicial, 10)"
   ]
  },
  {
   "cell_type": "markdown",
   "id": "c0a60c071436170b",
   "metadata": {},
   "source": [
    "# Visualização do Jogo da Vida\n",
    "Vamos testar a função com um grid inicial aleatório de 10x10 e 10 passos de tempo."
   ]
  },
  {
   "cell_type": "code",
   "execution_count": null,
   "id": "a139288fe432079a",
   "metadata": {},
   "outputs": [],
   "source": []
  }
 ],
 "metadata": {
  "kernelspec": {
   "display_name": "Python 3 (ipykernel)",
   "language": "python",
   "name": "python3"
  },
  "language_info": {
   "codemirror_mode": {
    "name": "ipython",
    "version": 3
   },
   "file_extension": ".py",
   "mimetype": "text/x-python",
   "name": "python",
   "nbconvert_exporter": "python",
   "pygments_lexer": "ipython3",
   "version": "3.11.5"
  }
 },
 "nbformat": 4,
 "nbformat_minor": 5
}
